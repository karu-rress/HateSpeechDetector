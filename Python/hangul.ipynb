{
 "cells": [
  {
   "cell_type": "code",
   "execution_count": 1,
   "metadata": {},
   "outputs": [],
   "source": [
    "# 가정 1. 사용자는 한/영 시스템을 사용할 것\n",
    "# 가정 2. 사용자가 입력하는 언어는 한국어와 영어뿐일 것\n",
    "# 가정 3. \n",
    "\n",
    "import nltk"
   ]
  },
  {
   "cell_type": "code",
   "execution_count": 9,
   "metadata": {},
   "outputs": [],
   "source": [
    "from hangul_utils import join_jamos\n",
    "\n",
    "def engkor(text):\n",
    "    result = ''   # 영 > 한 변환 결과\n",
    "    \n",
    "    # 1. 해당 글자가 자음인지 모음인지 확인\n",
    "    vc = '' \n",
    "    for t in text:\n",
    "        if t in cons :\n",
    "            vc+='c'\n",
    "        elif t in vowels:\n",
    "            vc+='v'\n",
    "        else:\n",
    "            vc+='!'\n",
    "    # cvv → fVV / cv → fv / cc → dd \n",
    "    vc = vc.replace('cvv', 'fVV').replace('cv', 'fv').replace('cc', 'dd')\n",
    "\t\n",
    "    # 2. 자음 / 모음 / 두글자 자음 에서 검색\n",
    "    i = 0\n",
    "    while i < len(text):\n",
    "        v = vc[i]\n",
    "        t = text[i]\n",
    "\n",
    "        j = 1\n",
    "        # 한글일 경우\n",
    "        try:\n",
    "            if v == 'f' or v == 'c':   # 초성(f) & 자음(c) = 자음\n",
    "                result+=cons[t]\n",
    "            elif v == 'V':   # 더블 모음\n",
    "                result+=vowels[text[i:i+2]]\n",
    "                j+=1\n",
    "            elif v == 'v':   # 모음\n",
    "                result+=vowels[t]\n",
    "            elif v == 'd':   # 더블 자음\n",
    "                result+=cons_double[text[i:i+2]]\n",
    "                j+=1\n",
    "            else:\n",
    "                result+=t\n",
    "                \n",
    "        # 한글이 아닐 경우\n",
    "        except:\n",
    "            return ''\n",
    "        i += j\n",
    "    return join_jamos(result)"
   ]
  },
  {
   "cell_type": "code",
   "execution_count": 14,
   "metadata": {},
   "outputs": [
    {
     "name": "stdout",
     "output_type": "stream",
     "text": [
      "입력된 단어 \"ddkjfwiojfowiehfwe\"는 알파벳입니다.\n",
      "입력된 단어는 정상적인 한국어가 아닙니다.\n"
     ]
    },
    {
     "name": "stderr",
     "output_type": "stream",
     "text": [
      "<>:24: SyntaxWarning: \"is\" with a literal. Did you mean \"==\"?\n",
      "<>:24: SyntaxWarning: \"is\" with a literal. Did you mean \"==\"?\n",
      "C:\\Users\\nsun5\\AppData\\Local\\Temp/ipykernel_20096/2544903363.py:24: SyntaxWarning: \"is\" with a literal. Did you mean \"==\"?\n",
      "  if result is '':\n"
     ]
    }
   ],
   "source": [
    "text = 'ddkjfwiojfowiehfwe' # input\n",
    "\n",
    "def is_english(text: str):\n",
    "    for char in text:\n",
    "        if char >= 'a' and char <= 'z' \\\n",
    "            or char >= 'A' and char <= 'Z':\n",
    "            continue\n",
    "        else:\n",
    "            return False\n",
    "    return True\n",
    "\n",
    "\n",
    "\n",
    "text_is_eng = is_english(text)\n",
    "\n",
    "if text_is_eng:\n",
    "    print(f'입력된 단어 \"{text}\"는 알파벳입니다.')\n",
    "else:\n",
    "    print(f'입력된 단어 \"{text}\"는 한글입니다.')\n",
    "\n",
    "try:\n",
    "    if text_is_eng:\n",
    "        result = engkor(text)\n",
    "        if result == '':\n",
    "            raise\n",
    "        print('한국어 변환 결과:', result)\n",
    "    \n",
    "except:\n",
    "    print('입력된 단어는 정상적인 한국어가 아닙니다.')\n"
   ]
  },
  {
   "cell_type": "code",
   "execution_count": 6,
   "metadata": {},
   "outputs": [],
   "source": [
    "# 자음-초성/종성\n",
    "cons = {'r':'ㄱ', 'R':'ㄲ', 's':'ㄴ', 'e':'ㄷ', 'E':'ㄸ', 'f':'ㄹ', 'a':'ㅁ', 'q':'ㅂ', 'Q':'ㅃ', 't':'ㅅ', 'T':'ㅆ',\n",
    "           'd':'ㅇ', 'w':'ㅈ', 'W':'ㅉ', 'c':'ㅊ', 'z':'ㅋ', 'x':'ㅌ', 'v':'ㅍ', 'g':'ㅎ'}\n",
    "# 모음-중성\n",
    "vowels = {'k':'ㅏ', 'o':'ㅐ', 'i':'ㅑ', 'O':'ㅒ', 'j':'ㅓ', 'p':'ㅔ', 'u':'ㅕ', 'P':'ㅖ', 'h':'ㅗ', 'hk':'ㅘ', 'ho':'ㅙ', 'hl':'ㅚ',\n",
    "           'y':'ㅛ', 'n':'ㅜ', 'nj':'ㅝ', 'np':'ㅞ', 'nl':'ㅟ', 'b':'ㅠ',  'm':'ㅡ', 'ml':'ㅢ', 'l':'ㅣ'}\n",
    "\n",
    "# 자음-종성\n",
    "cons_double = {'rt':'ㄳ', 'sw':'ㄵ', 'sg':'ㄶ', 'fr':'ㄺ', 'fa':'ㄻ', 'fq':'ㄼ', 'ft':'ㄽ', 'fx':'ㄾ', 'fv':'ㄿ', 'fg':'ㅀ', 'qt':'ㅄ'}"
   ]
  },
  {
   "cell_type": "code",
   "execution_count": 8,
   "metadata": {},
   "outputs": [
    {
     "data": {
      "text/plain": [
       "'한ㅎ글'"
      ]
     },
     "execution_count": 8,
     "metadata": {},
     "output_type": "execute_result"
    }
   ],
   "source": []
  }
 ],
 "metadata": {
  "interpreter": {
   "hash": "cebfd0eab3ccffc4d4486278da080842fcb66be7132f3d2ecc5ec2c75f89173a"
  },
  "kernelspec": {
   "display_name": "Python 3.9.7 ('base')",
   "language": "python",
   "name": "python3"
  },
  "language_info": {
   "codemirror_mode": {
    "name": "ipython",
    "version": 3
   },
   "file_extension": ".py",
   "mimetype": "text/x-python",
   "name": "python",
   "nbconvert_exporter": "python",
   "pygments_lexer": "ipython3",
   "version": "3.9.7"
  },
  "orig_nbformat": 4
 },
 "nbformat": 4,
 "nbformat_minor": 2
}
